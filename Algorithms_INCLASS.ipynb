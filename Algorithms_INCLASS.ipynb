{
 "cells": [
  {
   "cell_type": "markdown",
   "metadata": {},
   "source": [
    "# Algorithms, Binary Search & Linked Lists"
   ]
  },
  {
   "cell_type": "markdown",
   "metadata": {},
   "source": [
    "## Tasks Today:\n",
    " \n",
    "1) <b>In-Place Algorithms</b> <br>\n",
    " &nbsp;&nbsp;&nbsp;&nbsp; a) Syntax <br>\n",
    " &nbsp;&nbsp;&nbsp;&nbsp; a) Out of Place Algorithm <br>\n",
    " &nbsp;&nbsp;&nbsp;&nbsp; b) In-Class Exercise #1 <br>\n",
    "2) <b>Two Pointers</b> <br>\n",
    "3) <b>Linked Lists</b> <br>\n",
    "4) <b>Merge Sort</b> <br>\n",
    " &nbsp;&nbsp;&nbsp;&nbsp; a) Video on Algorithms <br>\n",
    " &nbsp;&nbsp;&nbsp;&nbsp; b) How it Works <br>\n",
    "5) <b>Exercises</b> <br>\n",
    " &nbsp;&nbsp;&nbsp;&nbsp; a) Exercise #1 - Reverse a List in Place Using an In-Place Algorithm <br>\n",
    " &nbsp;&nbsp;&nbsp;&nbsp; b) Exercise #2 - Find Distinct Words <br>\n",
    " &nbsp;&nbsp;&nbsp;&nbsp; c) Exercise #3 - Write a program to implement a Linear Search Algorithm. <br>"
   ]
  },
  {
   "cell_type": "markdown",
   "metadata": {},
   "source": [
    "## In-Place Algorithms"
   ]
  },
  {
   "cell_type": "markdown",
   "metadata": {},
   "source": [
    "#### Syntax"
   ]
  },
  {
   "cell_type": "code",
   "execution_count": 3,
   "metadata": {},
   "outputs": [
    {
     "name": "stdout",
     "output_type": "stream",
     "text": [
      "1694997875072\n",
      "1694997875072\n"
     ]
    }
   ],
   "source": [
    "# inplace is an algorithm that modifies the original variable in its place in memory\n",
    "# thse algorithms typically don't return anything\n",
    "\n",
    "def swap(alist, x, y, z):\n",
    "    alist[x], alist[y], alist[z] = alist[y], alist[z], alist[x]\n",
    "\n",
    "my_list = [1,2,3]\n",
    "print(id(my_list))\n",
    "swap(my_list, 0, 1, 2)\n",
    "\n",
    "print(id(my_list))\n"
   ]
  },
  {
   "cell_type": "markdown",
   "metadata": {},
   "source": [
    "#### Out of Place Algorithm"
   ]
  },
  {
   "cell_type": "code",
   "execution_count": 4,
   "metadata": {},
   "outputs": [
    {
     "name": "stdout",
     "output_type": "stream",
     "text": [
      "1694997923904\n",
      "[3, 2, 1]\n",
      "1694997894848\n"
     ]
    }
   ],
   "source": [
    "# out of place algos don't modify the original, they use the values, but restore the modifications in a new place in memory\n",
    "\n",
    "def out_swap(alist):\n",
    "    output = []\n",
    "    for ele in alist[::-1]:\n",
    "        output.append(ele)\n",
    "    return output\n",
    "\n",
    "my_list = [1,2,3]\n",
    "print(id(my_list))\n",
    "\n",
    "my_list = out_swap(my_list)\n",
    "\n",
    "print(my_list)\n",
    "print(id(my_list))"
   ]
  },
  {
   "cell_type": "markdown",
   "metadata": {},
   "source": [
    "#### In-Class Exercise #1 <br>\n",
    "<p>Write a function that takes in four arguments (list, index1, index2, index3), and swaps those three positions in the list passed in.</p>"
   ]
  },
  {
   "cell_type": "code",
   "execution_count": 7,
   "metadata": {},
   "outputs": [
    {
     "name": "stdout",
     "output_type": "stream",
     "text": [
      "[10, 4, 3, 4, 2, 8, 6]\n"
     ]
    }
   ],
   "source": [
    "l_1 = [10, 4, 3, 8, 4, 2, 6]\n",
    "\n",
    "def swap(alist, x, y, z):\n",
    "    alist[x], alist[y], alist[z] = alist[y], alist[z], alist[x]\n",
    "\n",
    "\n",
    "swap(l_1, 3,4,5,)\n",
    "\n",
    "print(l_1)"
   ]
  },
  {
   "cell_type": "markdown",
   "metadata": {},
   "source": [
    "## Two Pointers"
   ]
  },
  {
   "cell_type": "markdown",
   "metadata": {},
   "source": [
    "#### Syntax"
   ]
  },
  {
   "cell_type": "code",
   "execution_count": 9,
   "metadata": {},
   "outputs": [
    {
     "name": "stdout",
     "output_type": "stream",
     "text": [
      "[6, 5, 4, 3, 2, 1]\n"
     ]
    }
   ],
   "source": [
    "# An algo that keeps track of two indices (two pointers)\n",
    "\n",
    "this_list = [1,2,3,4,5,6]\n",
    "\n",
    "def two_p_swap(alist):\n",
    "    left = 0\n",
    "    right = len(alist) - 1     #to take to the last index\n",
    "    while left <= right:\n",
    "        alist[left],alist[right] = alist[right],alist[left]\n",
    "        left += 1\n",
    "        right -= 1\n",
    "two_p_swap(this_list)\n",
    "\n",
    "print((this_list))"
   ]
  },
  {
   "cell_type": "markdown",
   "metadata": {},
   "source": [
    "#### Video of Algorithms <br>\n",
    "<p>Watch the video about algorithms.</p>\n",
    "\n",
    "https://www.youtube.com/watch?v=Q9HjeFD62Uk\n",
    "\n",
    "https://www.youtube.com/watch?v=kPRA0W1kECg\n",
    "\n",
    "https://www.youtube.com/watch?v=ZZuD6iUe3Pc"
   ]
  },
  {
   "cell_type": "markdown",
   "metadata": {},
   "source": [
    "# Sorting Algorithms"
   ]
  },
  {
   "cell_type": "markdown",
   "metadata": {},
   "source": [
    "#### Bubble Sort\n",
    "\n",
    "Worst Case: O(n^2) Time - O(1) Space"
   ]
  },
  {
   "cell_type": "code",
   "execution_count": 16,
   "metadata": {},
   "outputs": [
    {
     "name": "stdout",
     "output_type": "stream",
     "text": [
      "pass 1\n",
      "[8, 3, 5, 2, 9, 10, 1, 4]\n",
      "[3, 8, 5, 2, 9, 10, 1, 4]\n",
      "[3, 5, 8, 2, 9, 10, 1, 4]\n",
      "[3, 5, 2, 8, 9, 10, 1, 4]\n",
      "[3, 5, 2, 8, 9, 10, 1, 4]\n",
      "[3, 5, 2, 8, 9, 10, 1, 4]\n",
      "[3, 5, 2, 8, 9, 1, 10, 4]\n",
      "[3, 5, 2, 8, 9, 1, 4, 10]\n",
      "pass 2\n",
      "[3, 5, 2, 8, 9, 1, 4, 10]\n",
      "[3, 5, 2, 8, 9, 1, 4, 10]\n",
      "[3, 2, 5, 8, 9, 1, 4, 10]\n",
      "[3, 2, 5, 8, 9, 1, 4, 10]\n",
      "[3, 2, 5, 8, 9, 1, 4, 10]\n",
      "[3, 2, 5, 8, 1, 9, 4, 10]\n",
      "[3, 2, 5, 8, 1, 4, 9, 10]\n",
      "[3, 2, 5, 8, 1, 4, 9, 10]\n",
      "pass 3\n",
      "[3, 2, 5, 8, 1, 4, 9, 10]\n",
      "[2, 3, 5, 8, 1, 4, 9, 10]\n",
      "[2, 3, 5, 8, 1, 4, 9, 10]\n",
      "[2, 3, 5, 8, 1, 4, 9, 10]\n",
      "[2, 3, 5, 1, 8, 4, 9, 10]\n",
      "[2, 3, 5, 1, 4, 8, 9, 10]\n",
      "[2, 3, 5, 1, 4, 8, 9, 10]\n",
      "[2, 3, 5, 1, 4, 8, 9, 10]\n",
      "pass 4\n",
      "[2, 3, 5, 1, 4, 8, 9, 10]\n",
      "[2, 3, 5, 1, 4, 8, 9, 10]\n",
      "[2, 3, 5, 1, 4, 8, 9, 10]\n",
      "[2, 3, 1, 5, 4, 8, 9, 10]\n",
      "[2, 3, 1, 4, 5, 8, 9, 10]\n",
      "[2, 3, 1, 4, 5, 8, 9, 10]\n",
      "[2, 3, 1, 4, 5, 8, 9, 10]\n",
      "[2, 3, 1, 4, 5, 8, 9, 10]\n",
      "pass 5\n",
      "[2, 3, 1, 4, 5, 8, 9, 10]\n",
      "[2, 3, 1, 4, 5, 8, 9, 10]\n",
      "[2, 1, 3, 4, 5, 8, 9, 10]\n",
      "[2, 1, 3, 4, 5, 8, 9, 10]\n",
      "[2, 1, 3, 4, 5, 8, 9, 10]\n",
      "[2, 1, 3, 4, 5, 8, 9, 10]\n",
      "[2, 1, 3, 4, 5, 8, 9, 10]\n",
      "[2, 1, 3, 4, 5, 8, 9, 10]\n",
      "pass 6\n",
      "[2, 1, 3, 4, 5, 8, 9, 10]\n",
      "[1, 2, 3, 4, 5, 8, 9, 10]\n",
      "[1, 2, 3, 4, 5, 8, 9, 10]\n",
      "[1, 2, 3, 4, 5, 8, 9, 10]\n",
      "[1, 2, 3, 4, 5, 8, 9, 10]\n",
      "[1, 2, 3, 4, 5, 8, 9, 10]\n",
      "[1, 2, 3, 4, 5, 8, 9, 10]\n",
      "[1, 2, 3, 4, 5, 8, 9, 10]\n",
      "pass 7\n",
      "[1, 2, 3, 4, 5, 8, 9, 10]\n",
      "[1, 2, 3, 4, 5, 8, 9, 10]\n",
      "[1, 2, 3, 4, 5, 8, 9, 10]\n",
      "[1, 2, 3, 4, 5, 8, 9, 10]\n",
      "[1, 2, 3, 4, 5, 8, 9, 10]\n",
      "[1, 2, 3, 4, 5, 8, 9, 10]\n",
      "[1, 2, 3, 4, 5, 8, 9, 10]\n",
      "[1, 2, 3, 4, 5, 8, 9, 10]\n",
      "[1, 2, 3, 4, 5, 8, 9, 10]\n"
     ]
    }
   ],
   "source": [
    "# replaces teh next largest ele in position with every single pass\n",
    "\n",
    "alist = [8,3,5,2,9,10,1,4]\n",
    "\n",
    "def swap(alist, x ,y ):\n",
    "    alist[x], alist[y] = alist[y], alist[x]\n",
    "\n",
    "def bubble(alist):\n",
    "    isSorted = False\n",
    "\n",
    "    p = 0\n",
    "    while not isSorted:\n",
    "        p+=1\n",
    "        print(f'pass {p}')\n",
    "        isSorted = True\n",
    "\n",
    "        for index in range(len(alist)-1):\n",
    "            print(alist)\n",
    "            if alist[index] > alist[index + 1]:\n",
    "                swap(alist, index, index + 1)\n",
    "                isSorted = False\n",
    "        print(alist)\n",
    "bubble(alist)\n",
    "print(alist)"
   ]
  },
  {
   "cell_type": "markdown",
   "metadata": {},
   "source": [
    "##### Insertion Sort\n",
    "\n",
    "Worst Case: O(n^2) time - O(1)space"
   ]
  },
  {
   "cell_type": "code",
   "execution_count": 17,
   "metadata": {},
   "outputs": [
    {
     "ename": "NameError",
     "evalue": "name 'insertion' is not defined",
     "output_type": "error",
     "traceback": [
      "\u001b[1;31m---------------------------------------------------------------------------\u001b[0m",
      "\u001b[1;31mNameError\u001b[0m                                 Traceback (most recent call last)",
      "\u001b[1;32mc:\\Users\\ktran\\Desktop\\CodingTemple\\Code\\Thieves_133\\Week3\\Day3\\Algorithms_INCLASS.ipynb Cell 18\u001b[0m line \u001b[0;36m1\n\u001b[0;32m     <a href='vscode-notebook-cell:/c%3A/Users/ktran/Desktop/CodingTemple/Code/Thieves_133/Week3/Day3/Algorithms_INCLASS.ipynb#X23sZmlsZQ%3D%3D?line=9'>10</a>\u001b[0m             \u001b[39mwhile\u001b[39;00m i \u001b[39m>\u001b[39m \u001b[39m0\u001b[39m \u001b[39mand\u001b[39;00m alist[i] \u001b[39m<\u001b[39m alist[i\u001b[39m-\u001b[39m\u001b[39m1\u001b[39m]:\n\u001b[0;32m     <a href='vscode-notebook-cell:/c%3A/Users/ktran/Desktop/CodingTemple/Code/Thieves_133/Week3/Day3/Algorithms_INCLASS.ipynb#X23sZmlsZQ%3D%3D?line=10'>11</a>\u001b[0m                 swap(alist, i, i\u001b[39m-\u001b[39m\u001b[39m1\u001b[39m)\n\u001b[1;32m---> <a href='vscode-notebook-cell:/c%3A/Users/ktran/Desktop/CodingTemple/Code/Thieves_133/Week3/Day3/Algorithms_INCLASS.ipynb#X23sZmlsZQ%3D%3D?line=12'>13</a>\u001b[0m \u001b[39mprint\u001b[39m(insertion(alist))\n",
      "\u001b[1;31mNameError\u001b[0m: name 'insertion' is not defined"
     ]
    }
   ],
   "source": [
    "# starting from the BEGINNING inserting the next value into the \"sorted\" values\n",
    "\n",
    "alist = [8,3,5,2,9,10,1,4]\n",
    "\n",
    "def swap(alist, x ,y ):\n",
    "    alist[x], alist[y] = alist[y], alist[x]\n",
    "\n",
    "    def insertion(alist):\n",
    "        for i in range(len(alist)):\n",
    "            while i > 0 and alist[i] < alist[i-1]:\n",
    "                swap(alist, i, i-1)\n",
    "\n",
    "print(insertion(alist))"
   ]
  },
  {
   "cell_type": "markdown",
   "metadata": {},
   "source": [
    "## Merge Sort"
   ]
  },
  {
   "cell_type": "markdown",
   "metadata": {},
   "source": [
    "#### How it Works"
   ]
  },
  {
   "cell_type": "code",
   "execution_count": 19,
   "metadata": {},
   "outputs": [
    {
     "name": "stdout",
     "output_type": "stream",
     "text": [
      "[1, 2, 3, 4, 5, 8, 9, 10]\n"
     ]
    }
   ],
   "source": [
    "alist = [8,3,5,2,9,10,1,4]\n",
    "\n",
    "def mergeSort(alist):\n",
    "    #find base case\n",
    "    if len(alist) > 1:\n",
    "        #first step: split all the way down the left side (followed by the right)\n",
    "\n",
    "\n",
    "        middle = len(alist) // 2            #find the middle of list\n",
    "        left_half = alist[:middle]\n",
    "        right_half = alist[middle:]\n",
    "\n",
    "        mergeSort(left_half)\n",
    "        mergeSort(right_half)\n",
    "\n",
    "\n",
    "        i = 0   # tracking left pointer\n",
    "        j = 0   # tracking right pointer\n",
    "        k = 0   # tracking main list pointer\n",
    "\n",
    "        #comparing and sorting the elements from left and right until one list is empty\n",
    "\n",
    "        while i < len(left_half) and j < len(right_half):\n",
    "            if left_half[i] < right_half[j]:\n",
    "                alist[k] = left_half[i]\n",
    "                i += 1\n",
    "            else:\n",
    "                alist[k] = right_half[j]\n",
    "                j += 1\n",
    "            k += 1\n",
    "        #once a list is empty\n",
    "        #fill in from the other list\n",
    "\n",
    "        while i < len(left_half):\n",
    "            alist[k] = left_half[i]\n",
    "            i += 1\n",
    "            k += 1\n",
    "\n",
    "        while j < len(right_half):\n",
    "            alist[k] = right_half[j]\n",
    "            j += 1\n",
    "            k += 1\n",
    "    return alist\n",
    "print(mergeSort(alist))\n",
    "\n"
   ]
  },
  {
   "cell_type": "markdown",
   "metadata": {},
   "source": [
    "# Binary Search\n",
    "\n",
    "The Binary Search algorithm works by finding the number in the middle of a given array and comparing it to the target. Given that the array is sorted\n",
    "\n",
    "* The worst case run time for this algorithm is `O(log(n))`"
   ]
  },
  {
   "cell_type": "code",
   "execution_count": 15,
   "metadata": {},
   "outputs": [
    {
     "data": {
      "text/plain": [
       "'Target not found'"
      ]
     },
     "execution_count": 15,
     "metadata": {},
     "output_type": "execute_result"
    }
   ],
   "source": [
    "def binarySearch(alist, target):\n",
    "    left = 0\n",
    "    right = len(alist) - 1\n",
    "    while left <= right:\n",
    "        middle = (left + right) // 2\n",
    "        potential = alist[middle]\n",
    "        if target == potential:\n",
    "            return f'WINNER WINNER CHICKEN DINNER found {target} at index {middle}'\n",
    "        if target > potential:\n",
    "            left = middle + 1\n",
    "        elif target < potential:\n",
    "            right = middle - 1\n",
    "    return 'Target not found'\n",
    "\n",
    "binarySearch([1,2,3,4,5,6,7,8,22,45,64,78,90,1000], 1001)"
   ]
  },
  {
   "cell_type": "markdown",
   "metadata": {},
   "source": [
    "# Exercises"
   ]
  },
  {
   "cell_type": "markdown",
   "metadata": {},
   "source": [
    "### Exercise #1 <br>\n",
    "<p>Reverse the list below in-place using an in-place algorithm.<br>For extra credit: Reverse the strings at the same time.</p>"
   ]
  },
  {
   "cell_type": "code",
   "execution_count": 27,
   "metadata": {},
   "outputs": [
    {
     "name": "stdout",
     "output_type": "stream",
     "text": [
      "['.', 'sentence', 'a', 'is', 'this']\n"
     ]
    }
   ],
   "source": [
    "# using in-place algo, replacing the string     No hard coding.   refer to two-pointers and make it flexible\n",
    "words = ['this' , 'is', 'a', 'sentence', '.']\n",
    "\n",
    "\n",
    "def reverse_word(alist):\n",
    "    left= 0\n",
    "    right = len(alist) -1\n",
    "    \n",
    "    while left < right:\n",
    "        alist[left], alist[right] = alist[right], alist[left]\n",
    "        left += 1\n",
    "        right -= 1  \n",
    "    def reverse_word2(alist):\n",
    "    \n",
    "        for i in range(len(alist)):\n",
    "            alist[i] = alist[i][::-1]\n",
    "            \n",
    "words = ['this' , 'is', 'a', 'sentence', '.']\n",
    "reverse_word(words)\n",
    "print(words)\n",
    "\n",
    "#extra credit attempt\n",
    "\n",
    "    \n",
    "            \n",
    "    # print(words)\n"
   ]
  },
  {
   "cell_type": "markdown",
   "metadata": {},
   "source": [
    "### Exercise #2 <br>\n",
    "<p>Create a function that counts how many distinct words are in the string below, then outputs a dictionary with the words as the key and the value as the amount of times that word appears in the string.<br>Should output:<br>{'a': 5,<br>\n",
    " 'abstract': 1,<br>\n",
    " 'an': 3,<br>\n",
    " 'array': 2, ... etc...</p>"
   ]
  },
  {
   "cell_type": "code",
   "execution_count": 28,
   "metadata": {},
   "outputs": [
    {
     "name": "stdout",
     "output_type": "stream",
     "text": [
      "{'a': 5, 'in': 1, 'abstract': 1, 'an': 3, 'array': 2, 'associative': 1, 'be': 1, 'buckets': 1, 'can': 2, 'compute': 1, 'computing,': 1, 'data': 2, 'desired': 1, 'found': 1, 'from': 1, 'function': 1, 'hash': 4, 'implements': 1, 'index': 1, 'into': 1, 'is': 1, 'keys': 1, 'map': 2, 'of': 1, 'or': 1, 'slots': 1, 'structure': 2, 'table': 2, 'that': 1, 'the': 1, 'to': 2, 'type,': 1, 'uses': 1, 'value': 1, 'values.': 1, 'which': 2}\n"
     ]
    }
   ],
   "source": [
    "# casing matters In and in are the same   HINT: .split()\n",
    "#Extra credit-should be able to ignore punctuation  HINT: .strip()\n",
    "a_text = 'In computing, a hash table hash map is a data structure which implements an associative array abstract data type, a structure that can map keys to values. A hash table uses a hash function to compute an index into an array of buckets or slots from which the desired value can be found'\n",
    "# x = a_text.split()\n",
    "# print(x)\n",
    "\n",
    "def word_count(codingtemple):\n",
    "    counts = dict()\n",
    "    x = codingtemple.split()\n",
    "    x.sort()\n",
    "    \n",
    "\n",
    "    for word in x:\n",
    "        if word in counts:\n",
    "            counts[word] += 1\n",
    "        # elif word == '.':\n",
    "        #     a_text.remove('.')\n",
    "        else:\n",
    "            counts[word.lower()] = 1    \n",
    "    return counts\n",
    "\n",
    "       \n",
    "\n",
    "print(word_count(a_text))\n",
    "\n",
    "\n",
    "\n",
    "\n",
    "\n",
    "# def num_of_words(a_text):\n",
    "#     for text in a_text:\n",
    "#         text.strip(\", \")\n",
    "#         print(text)\n",
    "\n",
    "# print(num_of_words(a_text))\n",
    "\n",
    "\n"
   ]
  },
  {
   "cell_type": "markdown",
   "metadata": {},
   "source": [
    "## Exercise #3\n",
    "\n",
    "Write a program to implement a Linear Search Algorithm. Also in a comment, write the Time Complexity of the following algorithm.\n",
    "\n",
    "#### Hint: Linear Searching will require searching a list for a given number. "
   ]
  },
  {
   "cell_type": "code",
   "execution_count": 23,
   "metadata": {},
   "outputs": [
    {
     "data": {
      "text/plain": [
       "'Target not found'"
      ]
     },
     "execution_count": 23,
     "metadata": {},
     "output_type": "execute_result"
    }
   ],
   "source": [
    "# is it the First ele, Second ele, Third ele...     ele = element in the list\n",
    "\n",
    "def linearSearch(alist, target):\n",
    "    left = 0\n",
    "    \n",
    "    while True:\n",
    "        potential = alist[left]\n",
    "        if target == potential:\n",
    "            return f'You guessed it! {target} was the correct number at index {left}!'\n",
    "        if target > potential:\n",
    "            left += 1 \n",
    "        else:\n",
    "            return 'Target not found'\n",
    "\n",
    "linearSearch([1,2,3,4,5,7,10,52,234,430,757,1000], 866)       \n"
   ]
  }
 ],
 "metadata": {
  "kernelspec": {
   "display_name": "Python 3",
   "language": "python",
   "name": "python3"
  },
  "language_info": {
   "codemirror_mode": {
    "name": "ipython",
    "version": 3
   },
   "file_extension": ".py",
   "mimetype": "text/x-python",
   "name": "python",
   "nbconvert_exporter": "python",
   "pygments_lexer": "ipython3",
   "version": "3.11.4"
  }
 },
 "nbformat": 4,
 "nbformat_minor": 2
}
